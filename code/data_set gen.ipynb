{
 "cells": [
  {
   "cell_type": "code",
   "execution_count": null,
   "metadata": {},
   "outputs": [],
   "source": [
    "def read_csv(csv_file):\n",
    "    data = []\n",
    "    with open(csv_file, 'r') as f:\n",
    "\n",
    "        # create a list of rows in the CSV file\n",
    "        rows = f.readlines()\n",
    "\n",
    "        # strip white-space and newlines\n",
    "        rows = list(map(lambda x:x.strip(), rows))\n",
    "\n",
    "        for row in rows:\n",
    "\n",
    "            # further split each row into columns assuming delimiter is comma \n",
    "            row = row.split(',')\n",
    "\n",
    "            # append to data-frame our new row-object with columns\n",
    "            data.append(row)\n",
    "\n",
    "    return data"
   ]
  },
  {
   "cell_type": "code",
   "execution_count": null,
   "metadata": {},
   "outputs": [],
   "source": [
    "#read normal distrubtion for bpp\n",
    "listbpp=read_csv('your path')\n",
    "listbpp[0]"
   ]
  },
  {
   "cell_type": "code",
   "execution_count": null,
   "metadata": {},
   "outputs": [],
   "source": [
    "#convert list of string to float\n",
    "li={}\n",
    "for i in range(len(listbpp[0])):\n",
    "    li[i]=float(listbpp[0][i])\n"
   ]
  },
  {
   "cell_type": "code",
   "execution_count": null,
   "metadata": {},
   "outputs": [],
   "source": [
    "# make text folder\n",
    "import os\n",
    "import string\n",
    "import random\n",
    "\n",
    "\n",
    "\n",
    "def make_text_folder(list_bpp, path):\n",
    "    for i in range(len(list_bpp)): \n",
    "        generate_random_text_file(((list_bpp[i] * 512 * 512)/(1000 * 8))*1024, os.path.join(path, str(i+1) + '.txt'))\n",
    "\n",
    "\n",
    "\n",
    "def generate_random_text_file(size, location):\n",
    "    chars = string.printable\n",
    "    f = open(location, 'x')\n",
    "    f.write(''.join(random.choice(chars) for i in range(int(size))))\n",
    "    f.close()"
   ]
  },
  {
   "cell_type": "code",
   "execution_count": null,
   "metadata": {},
   "outputs": [],
   "source": [
    "li"
   ]
  },
  {
   "cell_type": "code",
   "execution_count": null,
   "metadata": {},
   "outputs": [],
   "source": [
    "#LSB\n"
   ]
  },
  {
   "cell_type": "code",
   "execution_count": null,
   "metadata": {},
   "outputs": [],
   "source": [
    "    path_of_images = '\\\\your path'\n",
    "    cover = os.getcwd() + '\\\\dataset\\\\images\\\\cover'\n",
    "    altered = os.getcwd() + '\\\\dataset\\\\images\\\\LSB'\n",
    "    altered_text = os.getcwd() + '\\\\dataset\\\\text\\\\LSB'\n",
    "    images = os.listdir(path_of_images)\n",
    "    cover_images = os.listdir(cover)\n",
    "    os.mkdir(os.getcwd() + '\\\\dataset')\n",
    "    os.mkdir(os.getcwd() + '\\\\dataset\\\\images')\n",
    "    os.mkdir(os.getcwd() + '\\\\dataset\\\\text')\n",
    "    os.mkdir(cover)\n",
    "    os.mkdir(altered)\n",
    "    os.mkdir(altered_text)"
   ]
  },
  {
   "cell_type": "code",
   "execution_count": null,
   "metadata": {},
   "outputs": [],
   "source": [
    "  #Start encoding  \n",
    "    cover_images = os.listdir(cover)\n",
    "    i=1\n",
    "    count=1\n",
    "    for file_name in cover_images:\n",
    "        full_file_name = os.path.join(cover, file_name)\n",
    "        \n",
    "            \n",
    "        text_file_path = os.path.join(altered_text,str(i)+'.txt')\n",
    "        \n",
    "        jar_file = os.path.join(os.getcwd(), 'openstego.jar')\n",
    "        os.system(\n",
    "            'java -jar ' + jar_file + ' embed -a RandomLSB -mf ' + text_file_path + ' -cf '\n",
    "            + full_file_name + ' -sf ' + os.path.join(altered, str(count)+'.png')\n",
    "        )\n",
    "        if count%50==0:\n",
    "            i+=1\n",
    "        count+=1                              \n",
    " # end LSB encoding"
   ]
  },
  {
   "cell_type": "code",
   "execution_count": null,
   "metadata": {},
   "outputs": [],
   "source": [
    "#F5"
   ]
  },
  {
   "cell_type": "code",
   "execution_count": null,
   "metadata": {
    "scrolled": true
   },
   "outputs": [],
   "source": [
    "\n",
    "    path_of_images = '\\\\your path'\n",
    "    cover = os.getcwd() + '\\\\dataset\\\\images\\\\cover'\n",
    "    altered = os.getcwd() + '\\\\dataset\\\\images\\\\f5'\n",
    "    altered_text = os.getcwd() + '\\\\dataset\\\\text\\\\LSB'\n",
    "    images = os.listdir(path_of_images)\n",
    "    cover_images = os.listdir(cover)\n",
    "    os.mkdir(altered)"
   ]
  },
  {
   "cell_type": "code",
   "execution_count": null,
   "metadata": {},
   "outputs": [],
   "source": [
    "    #Start encoding\n",
    "    cover_images = os.listdir(cover)\n",
    "    i=1\n",
    "    count=1\n",
    "    for file_name in cover_images:\n",
    "        full_file_name = os.path.join(cover, file_name)\n",
    "        \n",
    "            \n",
    "        text_file_path = os.path.join(altered_text,str(i)+'.txt')\n",
    "        \n",
    "        jar_file = os.path.join(os.getcwd(), 'f5.jar')\n",
    "        os.system(\n",
    "            'java -jar ' + jar_file + ' e -e ' + text_file_path + \" \"\n",
    "            + full_file_name + \" \" + os.path.join(altered, str(count)+'.jpg')\n",
    "        )\n",
    "        if count%50==0:\n",
    "            i+=1\n",
    "        count+=1 \n",
    "    # end f5 encoding"
   ]
  }
 ],
 "metadata": {
  "kernelspec": {
   "display_name": "Python 3",
   "language": "python",
   "name": "python3"
  },
  "language_info": {
   "codemirror_mode": {
    "name": "ipython",
    "version": 3
   },
   "file_extension": ".py",
   "mimetype": "text/x-python",
   "name": "python",
   "nbconvert_exporter": "python",
   "pygments_lexer": "ipython3",
   "version": "3.8.3"
  }
 },
 "nbformat": 4,
 "nbformat_minor": 4
}
